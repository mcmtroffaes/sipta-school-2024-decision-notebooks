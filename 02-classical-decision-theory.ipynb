{
 "cells": [
  {
   "cell_type": "markdown",
   "id": "663d7021-6ba7-40e6-a741-34e1ee40731c",
   "metadata": {},
   "source": [
    "# Classical Decision Theory Example\n",
    "\n",
    "In this example, we'll solve the following problem that we saw in the lectures: should we visit the offshore turbine by boat in the next hour?"
   ]
  },
  {
   "cell_type": "markdown",
   "id": "46489c27-a724-4599-b658-bb9ae45245cd",
   "metadata": {},
   "source": [
    "## Optimal Wald Strategies"
   ]
  },
  {
   "cell_type": "markdown",
   "id": "8b98cefd-ed11-4124-95e0-722607018aaf",
   "metadata": {},
   "source": [
    "We start with some type definitions (which you can ignore if you like).\n",
    "We'll also make use of the ``expectation`` function that we saw earlier."
   ]
  },
  {
   "cell_type": "code",
   "execution_count": 1,
   "id": "f64f0081-0f89-4cd1-afb7-0fb55feec883",
   "metadata": {},
   "outputs": [],
   "source": [
    "from collections.abc import Callable\n",
    "from enum import Enum\n",
    "from typing import Sequence\n",
    "\n",
    "Param = Enum(\"Param\", [\"LOW\", \"HIGH\"])  # avg height in next hour\n",
    "Data = Enum(\"Data\", [\"LOW\", \"HIGH\"])  # avg height from last hour\n",
    "Decision = Enum(\"Decision\", [\"BOAT\", \"NO_BOAT\"])  # whether to send a boat\n",
    "Strategy = Callable[[Data], Decision]  # function from data to decision\n",
    "\n",
    "def expectation(pmf: Sequence[float], gamble: Sequence[float]) -> float:\n",
    "    return sum(p * g for p, g in zip(pmf, gamble))"
   ]
  },
  {
   "cell_type": "markdown",
   "id": "1f037be4-f419-450f-be20-447c9cbf9401",
   "metadata": {},
   "source": [
    "We first specify the utility function $U(d, x)$: each combination of decision $d$ and parameter $x$ leads to a\n",
    "different final reward value. We can only board the offshore turbine for maintenance if the parameter $x$ is low.\n",
    "Taking boat costs €1000. Doing maintenance saves €4000. So, in units of €1000:"
   ]
  },
  {
   "cell_type": "code",
   "execution_count": 2,
   "id": "32d61c78-d90c-4400-946d-e167a71bc98c",
   "metadata": {},
   "outputs": [],
   "source": [
    "def utility(d: Decision, x: Param) -> float:\n",
    "    match d, x:\n",
    "        case Decision.BOAT, Param.LOW:\n",
    "            return 3\n",
    "        case Decision.BOAT, Param.HIGH:\n",
    "            return -1\n",
    "        case _:  # all other cases\n",
    "            return 0"
   ]
  },
  {
   "cell_type": "markdown",
   "id": "8a0a85b3-79b9-4eb4-b206-27e23e0b6914",
   "metadata": {},
   "source": [
    "The likelihood encodes the probability of the data given the parameter, $p(y\\mid x)$.\n",
    "The prior encodes the probability of the parameter, $p(x)$.\n",
    "They are given as follows:"
   ]
  },
  {
   "cell_type": "code",
   "execution_count": 3,
   "id": "f2f00d5d-1f7e-4346-9896-f55a04914788",
   "metadata": {},
   "outputs": [],
   "source": [
    "def likelihood(y: Data, x: Param) -> float:\n",
    "    # probability of data y given parameter x\n",
    "    match y, x:\n",
    "        case Data.LOW, Param.LOW:\n",
    "            return 0.9\n",
    "        case Data.HIGH, Param.LOW:\n",
    "            return 0.1\n",
    "        case Data.LOW, Param.HIGH:\n",
    "            return 0.3\n",
    "        case Data.HIGH, Param.HIGH:\n",
    "            return 0.7\n",
    "\n",
    "def prior(x: Param):\n",
    "    match x:\n",
    "        case Param.LOW:\n",
    "            return 0.4\n",
    "        case Param.HIGH:\n",
    "            return 0.6"
   ]
  },
  {
   "cell_type": "markdown",
   "id": "6aad83eb-1f81-4d28-b0aa-5ff4b7ce47b4",
   "metadata": {},
   "source": [
    "Wald's expected utility for a strategy $\\delta$ given parameter value $x$ is:\n",
    "$$U(\\delta|x)=E(U(\\delta(Y),x)|x)=\\sum_y U(\\delta(y),x)p(y|x)$$\n",
    "We can code this as follows:"
   ]
  },
  {
   "cell_type": "code",
   "execution_count": 4,
   "id": "33f503d2-5a9a-411b-94b2-9870fef24ef9",
   "metadata": {},
   "outputs": [],
   "source": [
    "def wald_expected_utility(strategy: Strategy, x: Param) -> float:\n",
    "    pmf = [likelihood(y, x) for y in Data]\n",
    "    gamble = [utility(strategy(y), x) for y in Data]\n",
    "    return expectation(pmf=pmf, gamble=gamble)"
   ]
  },
  {
   "cell_type": "markdown",
   "id": "c00e8765-d07c-4354-9513-37cc58f9cb37",
   "metadata": {},
   "source": [
    "Let's now define four possible strategies for our problem:\n",
    "\n",
    "* always take the boat,\n",
    "* never take the boat,\n",
    "* take the boat if the last hour's average wave height was low,\n",
    "* take the boat if the last hour's average wave height was high.\n",
    "\n",
    "These are encoded in by the functions below."
   ]
  },
  {
   "cell_type": "code",
   "execution_count": 5,
   "id": "b01dbfad-9120-4326-a3a3-ae38cb72567c",
   "metadata": {},
   "outputs": [],
   "source": [
    "def strategy_boat(y: Data) -> Decision:\n",
    "    return Decision.BOAT\n",
    "\n",
    "def strategy_no_boat(y: Data) -> Decision:\n",
    "    return Decision.NO_BOAT\n",
    "\n",
    "def strategy_boat_if_low(y: Data) -> Decision:\n",
    "    return Decision.BOAT if y == Data.LOW else Decision.NO_BOAT\n",
    "    \n",
    "def strategy_boat_if_high(y: Data) -> Decision:\n",
    "    return Decision.BOAT if y == Data.HIGH else Decision.NO_BOAT\n",
    "\n",
    "strategies: Sequence[Strategy] = [\n",
    "    strategy_boat,\n",
    "    strategy_no_boat,\n",
    "    strategy_boat_if_low,\n",
    "    strategy_boat_if_high,\n",
    "]"
   ]
  },
  {
   "cell_type": "markdown",
   "id": "bca8f5da-cafd-4579-b055-7de226e0cef1",
   "metadata": {},
   "source": [
    "Let's put everything together and calculate the Wald expected utilities for each strategy, as a function of the parameter $x$:"
   ]
  },
  {
   "cell_type": "code",
   "execution_count": 6,
   "id": "6a49b66a-aaaa-478b-b9f6-9d7a8ca53043",
   "metadata": {},
   "outputs": [
    {
     "name": "stdout",
     "output_type": "stream",
     "text": [
      "strategy_boat [3.0, -1.0]\n",
      "strategy_no_boat [0.0, 0.0]\n",
      "strategy_boat_if_low [2.7, -0.3]\n",
      "strategy_boat_if_high [0.30000000000000004, -0.7]\n"
     ]
    }
   ],
   "source": [
    "for strategy in strategies:\n",
    "    print(strategy.__name__, [wald_expected_utility(strategy, x) for x in Param])"
   ]
  },
  {
   "cell_type": "markdown",
   "id": "ace8f472-ec01-4084-90f4-e962300561f9",
   "metadata": {},
   "source": [
    "Verify that ``strategy_boat_if_high`` is dominated by ``strategy_boat_if_low``. Which strategies are admissible?"
   ]
  },
  {
   "cell_type": "markdown",
   "id": "ee94b0ee-441a-4de4-95f2-29007ec4ef40",
   "metadata": {},
   "source": [
    "## Optimal Bayes Strategies\n",
    "\n",
    "In the Bayesian setting, we simply calculate the posterior expected utility. First, we need to find the posterior $p(x\\mid y)$:\n",
    "$$p(x|y)=\\frac{p(y|x)p(x)}{\\sum_{x'}p(y|x')p(x')}$$\n",
    "In code, this is:"
   ]
  },
  {
   "cell_type": "code",
   "execution_count": 7,
   "id": "d94be946-7a6c-4a0e-bdb7-3a99b6ff96db",
   "metadata": {},
   "outputs": [],
   "source": [
    "def posterior(x: Param, y: Data) -> float:\n",
    "    return prior(x) * likelihood(y, x) / sum(prior(x_) * likelihood(y, x_) for x_ in Param)"
   ]
  },
  {
   "cell_type": "markdown",
   "id": "01ccd3c4-498b-4a1e-a044-644e840072cb",
   "metadata": {},
   "source": [
    "Now we can calculate the posterior expected utility of any decision $d$ given the data $y$:\n",
    "$$U(d|y)=E(U(d,X)|y)=\\sum_{x}U(d,x)p(x|y)$$\n",
    "In code:"
   ]
  },
  {
   "cell_type": "code",
   "execution_count": 8,
   "id": "c41ecaf0-9434-4b9b-bf68-44abc156a680",
   "metadata": {},
   "outputs": [],
   "source": [
    "def posterior_expected_utility(d: Decision, y: Data) -> float:\n",
    "    pmf = [posterior(x, y) for x in Param]\n",
    "    gamble = [utility(d, x) for x in Param]\n",
    "    return expectation(pmf=pmf, gamble=gamble)"
   ]
  },
  {
   "cell_type": "markdown",
   "id": "590ce7d6-5cb9-47f8-8ea5-7103b2a82a33",
   "metadata": {},
   "source": [
    "Let's put everything together."
   ]
  },
  {
   "cell_type": "code",
   "execution_count": 9,
   "id": "5f4a49e5-bafc-4c00-a11b-991b0dc39b4b",
   "metadata": {},
   "outputs": [
    {
     "name": "stdout",
     "output_type": "stream",
     "text": [
      "Data.LOW Decision.BOAT 1.6666666666666667\n",
      "Data.LOW Decision.NO_BOAT 0.0\n",
      "Data.HIGH Decision.BOAT -0.6521739130434783\n",
      "Data.HIGH Decision.NO_BOAT 0.0\n"
     ]
    }
   ],
   "source": [
    "for y in Data:\n",
    "    for d in Decision:\n",
    "        print(y, d, posterior_expected_utility(d, y))"
   ]
  },
  {
   "cell_type": "markdown",
   "id": "c75c44fc-5f56-43f0-8aa2-510d3c02a376",
   "metadata": {},
   "source": [
    "Confirm that the optimal Bayes decision strategy is to take the boat when the average wave height in the last hour was low, and otherwise not to take the boat.\n",
    "\n",
    "**Exercise** The prior used to find this strategy was $p(\\text{low})=0.4$ and $p(\\text{high})=0.6$. Repeat the calculation for $p(\\text{low})=0$ and $p(\\text{high})=1$, and again for $p(\\text{low})=0$ and $p(\\text{high})=1$. Thereby, confirm that the Bayesian analysis can recover all Wald admissible strategies for this problem."
   ]
  }
 ],
 "metadata": {
  "kernelspec": {
   "display_name": "Python 3 (ipykernel)",
   "language": "python",
   "name": "python3"
  },
  "language_info": {
   "codemirror_mode": {
    "name": "ipython",
    "version": 3
   },
   "file_extension": ".py",
   "mimetype": "text/x-python",
   "name": "python",
   "nbconvert_exporter": "python",
   "pygments_lexer": "ipython3",
   "version": "3.12.1"
  }
 },
 "nbformat": 4,
 "nbformat_minor": 5
}
