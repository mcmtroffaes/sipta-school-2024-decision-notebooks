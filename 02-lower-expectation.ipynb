{
 "cells": [
  {
   "attachments": {},
   "cell_type": "markdown",
   "id": "179431de-011e-4847-b550-12a0f5618c91",
   "metadata": {},
   "source": [
    "# Lower and Upper Expectation\n",
    "\n",
    "To solve decision problems using bounded probability, we first need some code to calculate lower and upper expectations themselves. In these exercises, for simplicity, we will always specify a lower expectation by means of a finite set of probability mass functions. The lower expectation is then the minimal expectation with respect to this set.\n",
    "\n",
    "Let's move to lower expectations. A credal set will then be a set of probability mass functions. For simplicity, we will also use a sequence to represent these in the code. For example, when coding, we will represent the credal set $\\{(0.2, 0.2, 0.6), (0.4, 0.1, 0.5)\\}$ as follows:"
   ]
  },
  {
   "cell_type": "code",
   "execution_count": 1,
   "id": "e58f9321-5d58-4b14-8f56-2ff8faf508e0",
   "metadata": {},
   "outputs": [
    {
     "data": {
      "text/plain": [
       "[[0.2, 0.2, 0.6], [0.4, 0.1, 0.5]]"
      ]
     },
     "execution_count": 1,
     "metadata": {},
     "output_type": "execute_result"
    }
   ],
   "source": [
    "# a credal set containing two probability mass functions\n",
    "[[0.2, 0.2, 0.6], [0.4, 0.1, 0.5]]"
   ]
  },
  {
   "cell_type": "markdown",
   "id": "e41aa20e-d45b-4c21-9e3e-9be5fa6e466a",
   "metadata": {},
   "source": [
    "The lower expectation is simply the minimum expectation over the credal set $\\mathcal{M}$:\n",
    "$$\\underline{E}(g)=\\min_{p\\in\\mathcal{M}}E_p(g)$$\n",
    "The next function implements this. We'll make use of the ``expectation`` function introduced previously."
   ]
  },
  {
   "cell_type": "code",
   "execution_count": 2,
   "id": "7a9e2e4d-754e-4b1d-b41e-1a140dbcca31",
   "metadata": {},
   "outputs": [],
   "source": [
    "from typing import Sequence\n",
    "\n",
    "def expectation(pmf: Sequence[float], gamble: Sequence[float]) -> float:\n",
    "    return sum(p * g for p, g in zip(pmf, gamble))\n",
    "\n",
    "def lower_expectation(credal_set: Sequence[Sequence[float]], gamble: Sequence[float]) -> float:\n",
    "    return min(expectation(pmf, gamble) for pmf in credal_set)"
   ]
  },
  {
   "cell_type": "markdown",
   "id": "c4129137-d9ce-4fb5-a460-d513b8dbafd2",
   "metadata": {},
   "source": [
    "Let's test this by finding the lower expectation of the gamble ``[5, 3, 1]`` with respect to the credal set ``[[0.2, 0.2, 0.6], [0.1, 0.1, 0.8]]``:"
   ]
  },
  {
   "cell_type": "code",
   "execution_count": 3,
   "id": "775f9075-24b4-4ce8-a72c-9137ab31507d",
   "metadata": {},
   "outputs": [
    {
     "data": {
      "text/plain": [
       "1.6"
      ]
     },
     "execution_count": 3,
     "metadata": {},
     "output_type": "execute_result"
    }
   ],
   "source": [
    "lower_expectation(\n",
    "    credal_set=[[0.2, 0.2, 0.6], [0.1, 0.1, 0.8]],\n",
    "    gamble=[5, 3, 1],\n",
    ")"
   ]
  },
  {
   "cell_type": "markdown",
   "id": "a92e3e02-3336-4998-9947-3f8e5890bccb",
   "metadata": {},
   "source": [
    "Let's check this value by evaluating the expectation of the gamble with respect to each member of the credal set:"
   ]
  },
  {
   "cell_type": "code",
   "execution_count": 4,
   "id": "060afdf5-5793-48d5-97bc-c24cd19ab5bf",
   "metadata": {},
   "outputs": [
    {
     "data": {
      "text/plain": [
       "[2.2, 1.6]"
      ]
     },
     "execution_count": 4,
     "metadata": {},
     "output_type": "execute_result"
    }
   ],
   "source": [
    "[0.2 * 5 + 0.2 * 3 + 0.6 * 1, 0.1 * 5 + 0.1 * 3 + 0.8 * 1]"
   ]
  },
  {
   "cell_type": "markdown",
   "id": "4be764b3-48a5-4ee3-ab3e-e29e3a6ca424",
   "metadata": {},
   "source": [
    "The lower expectation is the lowest of these numbers, and indeed we can see that the correct value has been found.\n",
    "\n",
    "**Exercise** Can you calculate the lower expectation of the gamble ``[1, 4, 2]`` with respect to the same credal set as the one used in the example?"
   ]
  },
  {
   "cell_type": "code",
   "execution_count": 5,
   "id": "8d86e6cc-6cfa-4885-a9b2-245ac83dbe0e",
   "metadata": {},
   "outputs": [],
   "source": [
    "# write your solution here"
   ]
  },
  {
   "cell_type": "markdown",
   "id": "b07bf584-983d-4582-bed7-f3409ffb00d9",
   "metadata": {},
   "source": [
    "**Exercise** Can you also calculate the same gamble's upper expectation conditional on this same event? (Hint: Recall that $\\overline{E}(g)=-\\underline{E}(-g)$.)"
   ]
  },
  {
   "cell_type": "code",
   "execution_count": 6,
   "id": "d2a09765-f285-4182-8f06-2fd7fdc3ca43",
   "metadata": {},
   "outputs": [],
   "source": [
    "# write your solution here"
   ]
  }
 ],
 "metadata": {
  "kernelspec": {
   "display_name": "Python 3 (ipykernel)",
   "language": "python",
   "name": "python3"
  },
  "language_info": {
   "codemirror_mode": {
    "name": "ipython",
    "version": 3
   },
   "file_extension": ".py",
   "mimetype": "text/x-python",
   "name": "python",
   "nbconvert_exporter": "python",
   "pygments_lexer": "ipython3",
   "version": "3.12.1"
  }
 },
 "nbformat": 4,
 "nbformat_minor": 5
}
