{
 "cells": [
  {
   "cell_type": "markdown",
   "id": "4ded750f-e399-4b67-a60f-414b7c6433f5",
   "metadata": {},
   "source": [
    "# Robust Decision Making\n",
    "\n",
    "We need to introduce a small tolerance when comparing floating point values, to account for numerical approximations in the code. Here you can set the global value:"
   ]
  },
  {
   "cell_type": "code",
   "execution_count": 1,
   "id": "f16318de-d594-4849-a6f6-17367c96ab13",
   "metadata": {},
   "outputs": [],
   "source": [
    "TOL = 1e-6"
   ]
  },
  {
   "cell_type": "markdown",
   "id": "12a53251-8947-420b-91f3-037d62bac0a3",
   "metadata": {},
   "source": [
    "To solve decision problems using bounded probability, we first need some code to calculate lower and upper expectations themselves."
   ]
  },
  {
   "cell_type": "markdown",
   "id": "81485db8-471a-4e84-8a40-74d48af61f99",
   "metadata": {},
   "source": [
    "## Credal Sets\n",
    "\n",
    "Here, for simplicity, we will always specify a lower expectation by means of a finite set of probability mass functions.\n",
    "The lower expectation is then the minimal expectation with respect to this set.\n",
    "\n",
    "Let's move to lower expectations. A credal set will then be a set of probability mass functions. For simplicity, we will also use a sequence to represent these in the code. For example, when coding, we will represent the credal set $\\{(0.2, 0.2, 0.6), (0.4, 0.1, 0.5)\\}$ as follows:"
   ]
  },
  {
   "cell_type": "code",
   "execution_count": 2,
   "id": "e58f9321-5d58-4b14-8f56-2ff8faf508e0",
   "metadata": {},
   "outputs": [
    {
     "data": {
      "text/plain": [
       "[[0.2, 0.2, 0.6], [0.4, 0.1, 0.5]]"
      ]
     },
     "execution_count": 2,
     "metadata": {},
     "output_type": "execute_result"
    }
   ],
   "source": [
    "[[0.2, 0.2, 0.6], [0.4, 0.1, 0.5]]"
   ]
  },
  {
   "cell_type": "markdown",
   "id": "e41aa20e-d45b-4c21-9e3e-9be5fa6e466a",
   "metadata": {},
   "source": [
    "## Lower and Upper Expectations\n",
    "\n",
    "The lower and upper expectation are simply the minimum and maximum expectation over the credal set $\\mathcal{M}$:\n",
    "$$\\underline{E}(X)=\\min_{p\\in\\mathcal{M}}E_p(X)\\qquad\\overline{E}(X)=\\max_{p\\in\\mathcal{M}}E_p(X)$$\n",
    "The next functions implement this.\n",
    "We'll make use of the ``expectation`` function introduced previously.\n",
    "In the code, we abstract the minimum and maximum transformations,\n",
    "since we will consider an additional transformation later in the exercises,\n",
    "and it makes for more compact and reusable code."
   ]
  },
  {
   "cell_type": "code",
   "execution_count": 3,
   "id": "7a9e2e4d-754e-4b1d-b41e-1a140dbcca31",
   "metadata": {},
   "outputs": [],
   "source": [
    "from collections.abc import Callable, Sequence\n",
    "\n",
    "PMF = Sequence[float]\n",
    "Gamble = Sequence[float]\n",
    "\n",
    "\n",
    "def expectation(pmf: PMF, gamble: Gamble) -> float:\n",
    "    return sum(p * g for p, g in zip(pmf, gamble))\n",
    "\n",
    "\n",
    "def transform_expectations(\n",
    "    transform: Callable[[Sequence[float]], float],  # sequence of expectations -> float\n",
    "    credal_set: Sequence[PMF],\n",
    "    gamble: Gamble,\n",
    ") -> float:\n",
    "    return transform([expectation(pmf, gamble) for pmf in credal_set])\n",
    "\n",
    "\n",
    "def lower_expectation(credal_set: Sequence[PMF], gamble: Gamble) -> float:\n",
    "    return transform_expectations(min, credal_set, gamble)\n",
    "\n",
    "\n",
    "def upper_expectation(credal_set: Sequence[PMF], gamble: Gamble) -> float:\n",
    "    return transform_expectations(max, credal_set, gamble)"
   ]
  },
  {
   "cell_type": "markdown",
   "id": "c4129137-d9ce-4fb5-a460-d513b8dbafd2",
   "metadata": {},
   "source": [
    "Let's test this by finding the lower expectation of the gamble ``[5, 3, 1]`` with respect to the credal set ``[[0.2, 0.2, 0.6], [0.1, 0.1, 0.8]]``:"
   ]
  },
  {
   "cell_type": "code",
   "execution_count": 4,
   "id": "775f9075-24b4-4ce8-a72c-9137ab31507d",
   "metadata": {},
   "outputs": [
    {
     "data": {
      "text/plain": [
       "1.6"
      ]
     },
     "execution_count": 4,
     "metadata": {},
     "output_type": "execute_result"
    }
   ],
   "source": [
    "lower_expectation(\n",
    "    credal_set=[[0.2, 0.2, 0.6], [0.1, 0.1, 0.8]],\n",
    "    gamble=[5, 3, 1],\n",
    ")"
   ]
  },
  {
   "cell_type": "markdown",
   "id": "a92e3e02-3336-4998-9947-3f8e5890bccb",
   "metadata": {},
   "source": [
    "Let's check this value by evaluating the expectation of the gamble with respect to each member of the credal set:"
   ]
  },
  {
   "cell_type": "code",
   "execution_count": 5,
   "id": "060afdf5-5793-48d5-97bc-c24cd19ab5bf",
   "metadata": {},
   "outputs": [
    {
     "data": {
      "text/plain": [
       "[2.2, 1.6]"
      ]
     },
     "execution_count": 5,
     "metadata": {},
     "output_type": "execute_result"
    }
   ],
   "source": [
    "[0.2 * 5 + 0.2 * 3 + 0.6 * 1, 0.1 * 5 + 0.1 * 3 + 0.8 * 1]"
   ]
  },
  {
   "cell_type": "markdown",
   "id": "4be764b3-48a5-4ee3-ab3e-e29e3a6ca424",
   "metadata": {},
   "source": [
    "The lower expectation is the lowest of these numbers, and indeed we can see that the correct value has been found.\n",
    "\n",
    "**Exercise** Can you calculate the lower expectation of the gamble ``[1, 4, 2]`` with respect to the same credal set as the one used in the example?"
   ]
  },
  {
   "cell_type": "code",
   "execution_count": 6,
   "id": "8d86e6cc-6cfa-4885-a9b2-245ac83dbe0e",
   "metadata": {},
   "outputs": [],
   "source": [
    "# write your solution here"
   ]
  },
  {
   "cell_type": "markdown",
   "id": "b07bf584-983d-4582-bed7-f3409ffb00d9",
   "metadata": {},
   "source": [
    "**Exercise** Can you also calculate the same gamble's upper expectation (again with the same credal set)?"
   ]
  },
  {
   "cell_type": "code",
   "execution_count": 7,
   "id": "d2a09765-f285-4182-8f06-2fd7fdc3ca43",
   "metadata": {},
   "outputs": [],
   "source": [
    "# write your solution here"
   ]
  },
  {
   "cell_type": "markdown",
   "id": "8ca6a375-96e9-4a6f-af8d-dafe3b294ade",
   "metadata": {},
   "source": [
    "**Exercise** Verify that $\\overline{E}(X)=-\\underline{E}(-X)$, for the gamble ``[1, 4, 2]``."
   ]
  },
  {
   "cell_type": "code",
   "execution_count": 8,
   "id": "ee2b3ca8-1e92-4571-a7e5-0b60426822c6",
   "metadata": {},
   "outputs": [],
   "source": [
    "# write your solution here"
   ]
  },
  {
   "cell_type": "markdown",
   "id": "67e3d323-f2aa-41c1-8b5d-fbcf9c8bc20b",
   "metadata": {},
   "source": [
    "## Gamma-maximin\n",
    "\n",
    "In $\\Gamma$-maximin, we choose the gamble with the highest lower expectation:\n",
    "$$\\arg\\max_{d\\in D}\\underline{E}(X_d)$$"
   ]
  },
  {
   "cell_type": "code",
   "execution_count": 9,
   "id": "7b362938-0c47-4944-a393-d753ec5db88c",
   "metadata": {},
   "outputs": [],
   "source": [
    "def is_gamma_maxi_something(\n",
    "    # something = gamble -> float (e.g. lower prevision, upper prevision, ...)\n",
    "    something: Callable[[Gamble], float],\n",
    "    gambles: Sequence[Gamble],\n",
    ") -> Sequence[bool]:\n",
    "    values = list(map(something, gambles))\n",
    "    max_value = max(values)\n",
    "    return [value + TOL >= max_value for value in values]\n",
    "\n",
    "\n",
    "def is_gamma_maximin(\n",
    "    credal_set: Sequence[PMF],\n",
    "    gambles: Sequence[Gamble],\n",
    ") -> Sequence[bool]:\n",
    "    def something(gamble: Gamble) -> float:\n",
    "        return lower_expectation(credal_set, gamble)\n",
    "\n",
    "    return is_gamma_maxi_something(something, gambles)"
   ]
  },
  {
   "cell_type": "markdown",
   "id": "b43474c8-4823-4fa5-b267-8b7caee78e9f",
   "metadata": {},
   "source": [
    "Let us test this on our example, with credal set ``[[0.5, 0.5], [0.8 , 0.2]]`` and gambles ``[[440, 260], [420, 300], [370, 370]]``:"
   ]
  },
  {
   "cell_type": "code",
   "execution_count": 10,
   "id": "e39450ee-b5ae-4453-857d-b9fccc5e06d2",
   "metadata": {},
   "outputs": [
    {
     "data": {
      "text/plain": [
       "[False, False, True]"
      ]
     },
     "execution_count": 10,
     "metadata": {},
     "output_type": "execute_result"
    }
   ],
   "source": [
    "is_gamma_maximin(\n",
    "    credal_set=[[0.5, 0.5], [0.8, 0.2]],\n",
    "    gambles=[[440, 260], [420, 300], [370, 370]],\n",
    ")"
   ]
  },
  {
   "cell_type": "markdown",
   "id": "36fa2d94-4053-45f5-91fe-8f654a1c6bda",
   "metadata": {},
   "source": [
    "This tells us that the third gamble (and only the third one) is optimal according to $\\Gamma$-maximin."
   ]
  },
  {
   "cell_type": "markdown",
   "id": "10ee74bf-7527-4851-a982-b0bf49653b36",
   "metadata": {},
   "source": [
    "## Gamma-maximax\n",
    "\n",
    "The situation for $\\Gamma$-maximax is very similar.\n",
    "We choose the gamble with the highest upper expectation:\n",
    "$$\\arg\\max_{d\\in D}\\overline{E}(X_d)$$\n",
    "A small change in the above ``is_gamma_maximin`` function gives us ``is_gamma_maximax``:"
   ]
  },
  {
   "cell_type": "code",
   "execution_count": 11,
   "id": "f074f775-9f70-463d-951c-6d13e794869d",
   "metadata": {},
   "outputs": [],
   "source": [
    "def is_gamma_maximax(\n",
    "    credal_set: Sequence[PMF],\n",
    "    gambles: Sequence[Gamble],\n",
    ") -> Sequence[bool]:\n",
    "    def something(gamble: Gamble) -> float:\n",
    "        # we changed just the next line\n",
    "        return upper_expectation(credal_set, gamble)\n",
    "\n",
    "    return is_gamma_maxi_something(something, gambles)"
   ]
  },
  {
   "cell_type": "markdown",
   "id": "95b80891-9b85-4cd9-a6ca-3093c41779b9",
   "metadata": {},
   "source": [
    "Let us again test this on our example, with credal set ``[[0.5, 0.5], [0.8 , 0.2]]`` and gambles ``[[440, 260], [420, 300], [370, 370]]``:"
   ]
  },
  {
   "cell_type": "code",
   "execution_count": 12,
   "id": "ce33bc34-fbf4-4f8a-b8cd-e0be58ae5d2c",
   "metadata": {},
   "outputs": [
    {
     "data": {
      "text/plain": [
       "[True, False, False]"
      ]
     },
     "execution_count": 12,
     "metadata": {},
     "output_type": "execute_result"
    }
   ],
   "source": [
    "is_gamma_maximax(\n",
    "    credal_set=[[0.5, 0.5], [0.8, 0.2]],\n",
    "    gambles=[[440, 260], [420, 300], [370, 370]],\n",
    ")"
   ]
  },
  {
   "cell_type": "markdown",
   "id": "7b417222-fe89-466f-a655-3412121d55be",
   "metadata": {},
   "source": [
    "This tells us that the first gamble (and only the first one) is optimal according to $\\Gamma$-maximax."
   ]
  },
  {
   "cell_type": "markdown",
   "id": "83474917-9bba-4a0a-bd74-fcd31bd94228",
   "metadata": {},
   "source": [
    "## Hurwicz\n",
    "\n",
    "We cover this criterion as part of the exercises only. Hurwicz allows a choice inbetween $\\Gamma$-maximin and $\\Gamma$-maximax.\n",
    "First, we fix a pessimism index $\\beta\\in[0,1]$.\n",
    "We then choose the gamble with the highest convex combination of lower and upper expectation, as follows:\n",
    "$$\\arg\\max_{d\\in D}\\beta\\underline{E}(X_d)+(1-\\beta)\\overline{E}(X_d)$$"
   ]
  },
  {
   "cell_type": "markdown",
   "id": "23c674f9-f3e5-49e1-861d-6a6f21ae9a9e",
   "metadata": {},
   "source": [
    "**Exercise** Explain why $\\beta$ is called a 'pessimism' index (and not, say, an 'optimism' index)."
   ]
  },
  {
   "cell_type": "markdown",
   "id": "03742674-a126-4c50-8f2c-76922f0bbf13",
   "metadata": {},
   "source": [
    "*Write your solution here.*"
   ]
  },
  {
   "cell_type": "markdown",
   "id": "59782d16-20a8-44c6-bb38-01375fc47767",
   "metadata": {},
   "source": [
    "We can implement the Hurwicz criterion as follows:"
   ]
  },
  {
   "cell_type": "code",
   "execution_count": 13,
   "id": "e9dedbac-713e-40c4-8c88-bd4815cb0301",
   "metadata": {},
   "outputs": [],
   "source": [
    "def hurwicz_expectation(\n",
    "    beta: float,\n",
    "    credal_set: Sequence[PMF],\n",
    "    gamble: Gamble,\n",
    ") -> float:\n",
    "    def hurwicz(expectations: Sequence[float]) -> float:\n",
    "        return beta * min(expectations) + (1 - beta) * max(expectations)\n",
    "\n",
    "    return transform_expectations(hurwicz, credal_set, gamble)\n",
    "\n",
    "\n",
    "def is_hurwicz(\n",
    "    beta: float,\n",
    "    credal_set: Sequence[PMF],\n",
    "    gambles: Sequence[Gamble],\n",
    ") -> Sequence[bool]:\n",
    "    def something(gamble: Gamble) -> float:\n",
    "        return hurwicz_expectation(beta, credal_set, gamble)\n",
    "\n",
    "    return is_gamma_maxi_something(something, gambles)"
   ]
  },
  {
   "cell_type": "markdown",
   "id": "96e9fcf0-ce8b-448b-809a-1d769eeb73d5",
   "metadata": {},
   "source": [
    "**Exercise** The ``hurwicz_expectation`` calculates part of the formula for the Hurwicz criterion. Which part is that?"
   ]
  },
  {
   "cell_type": "markdown",
   "id": "33da0a4c-cfd3-4c95-9bee-9c82782478fd",
   "metadata": {},
   "source": [
    "*Write your solution here.*"
   ]
  },
  {
   "cell_type": "markdown",
   "id": "b7f3cbf4-e8d9-4697-bd6f-7765f8190254",
   "metadata": {},
   "source": [
    "**Exercise** Find the Hurwicz optimal gambles in our example with credal set ``[[0.5, 0.5], [0.8 , 0.2]]`` and gambles ``[[440, 260], [420, 300], [370, 370]]``, for $\\beta=0.5$. Confirm that the optimal choice here is ``[420, 300]`` (corresponding to neither the $\\Gamma$-maximin nor the $\\Gamma$-maximax solution)."
   ]
  },
  {
   "cell_type": "code",
   "execution_count": 14,
   "id": "1026efde-3490-4898-9a79-501de5f6c786",
   "metadata": {},
   "outputs": [],
   "source": [
    "# write your solution here"
   ]
  },
  {
   "cell_type": "markdown",
   "id": "74ad7ef7-cf3d-4612-afd4-3945236c8358",
   "metadata": {},
   "source": [
    "## Interval Maximality\n",
    "\n",
    "In interval maximality, we first introduce an ordering $\\sqsupset$ defined by\n",
    "$$X\\sqsupset Y\\text{ whenever }\\underline{E}(X)>\\overline{E}(Y)$$\n",
    "or in other words, whenever\n",
    "the interval $[\\underline{E}(X),\\overline{E}(X)]$\n",
    "completely dominates the interval $[\\underline{E}(Y),\\overline{E}(Y)]$.\n",
    "\n",
    "Under interval maximality, we\n",
    "choose any gamble which is undominated with respect to $\\sqsupset$:\n",
    "$$\\{d\\colon (\\forall e\\in D)(X_e\\not\\sqsupset X_d)\\}$$\n",
    "We can implement this as follows.\n",
    "For guidance, a mathematical explanation of the variables used is as follows\n",
    "(recall that $\\mathcal{M}$ denotes the credal set):\n",
    "\n",
    "* ``xs`` is $\\{E_p(X)\\colon p\\in\\mathcal{M}\\}$ for some gamble $X$\n",
    "* ``ys`` is $\\{E_p(Y)\\colon p\\in\\mathcal{M}\\}$ for some gamble $Y$\n",
    "* ``xss`` is $\\{\\{E_p(X_d)\\colon p\\in\\mathcal{M}\\}\\colon d\\in D\\}$\n",
    "\n",
    "The remaining variables should be obvious."
   ]
  },
  {
   "cell_type": "code",
   "execution_count": 15,
   "id": "7265c930-dfe5-4bbd-aadc-76d56d0c718a",
   "metadata": {},
   "outputs": [],
   "source": [
    "# check dominance between two vectors, using min and max values\n",
    "def interval_dominates(\n",
    "    xs: Sequence[float],\n",
    "    ys: Sequence[float],\n",
    ") -> bool:\n",
    "    return min(xs) > max(ys) + TOL\n",
    "\n",
    "\n",
    "def is_maximal(\n",
    "    # compares two vectors\n",
    "    dominates: Callable[[Sequence[float], Sequence[float]], bool],\n",
    "    # sequence of vectors\n",
    "    xss: Sequence[Sequence[float]],\n",
    ") -> Sequence[bool]:\n",
    "    def is_not_dominated(xs: Sequence[float]) -> bool:\n",
    "        return all(not dominates(ys, xs) for ys in xss)\n",
    "\n",
    "    return [is_not_dominated(xs) for xs in xss]\n",
    "\n",
    "\n",
    "def is_interval_maximal(\n",
    "    credal_set: Sequence[PMF],\n",
    "    gambles: Sequence[Gamble],\n",
    ") -> Sequence[bool]:\n",
    "    xss = [[expectation(pmf, gamble) for pmf in credal_set] for gamble in gambles]\n",
    "    return is_maximal(interval_dominates, xss)"
   ]
  },
  {
   "cell_type": "markdown",
   "id": "abf3d8f0-4495-40ef-880c-eaf0f06e0a8a",
   "metadata": {},
   "source": [
    "**Exercise** In the function ``interval_dominates``, explain what the expressions ``min(xs)`` and ``max(xs)`` correspond to."
   ]
  },
  {
   "cell_type": "markdown",
   "id": "002c1369-4f83-4c80-912c-c80219b45b26",
   "metadata": {},
   "source": [
    "*Write your solution here.*"
   ]
  },
  {
   "cell_type": "markdown",
   "id": "afc32586-4d61-4724-bf01-3096353c1c45",
   "metadata": {},
   "source": [
    "Let us test this on our example, with credal set ``[[0.5, 0.5], [0.8 , 0.2]]`` and gambles ``[[440, 260], [420, 300], [370, 370]]``:"
   ]
  },
  {
   "cell_type": "code",
   "execution_count": 16,
   "id": "adae55c8-7c1f-4902-9161-f26a603136f5",
   "metadata": {},
   "outputs": [
    {
     "data": {
      "text/plain": [
       "[True, True, True]"
      ]
     },
     "execution_count": 16,
     "metadata": {},
     "output_type": "execute_result"
    }
   ],
   "source": [
    "is_interval_maximal(\n",
    "    credal_set=[[0.5, 0.5], [0.8, 0.2]],\n",
    "    gambles=[[440, 260], [420, 300], [370, 370]],\n",
    ")"
   ]
  },
  {
   "cell_type": "markdown",
   "id": "90515a85-bf29-4342-aaec-bd1c8dd5dc41",
   "metadata": {},
   "source": [
    "## Robust Bayes Maximality\n",
    "\n",
    "We say that $X$ robust Bayes dominates $Y$, and write $X\\succ Y$,\n",
    "whenever\n",
    "$$\\forall p\\in\\mathcal{M}\\colon E_p(X)>E_p(Y)$$\n",
    "or equivalently,\n",
    "$$\\underline{E}(X-Y)>0$$\n",
    "\n",
    "Under robust Bayes maximality, we\n",
    "choose any gamble which is undominated with respect to $\\succ$:\n",
    "$$\\{d\\colon (\\forall e\\in D)(X_e\\not\\succ X_d)\\}$$\n",
    "We can implement this as follows, recycling our ``is_maximal`` function from before:"
   ]
  },
  {
   "cell_type": "code",
   "execution_count": 17,
   "id": "0d06c10d-7b59-4e2c-9da9-e2a98bdca1fe",
   "metadata": {},
   "outputs": [],
   "source": [
    "# check dominance between two vectors, pointwise\n",
    "def pointwise_dominates(\n",
    "    xs: Sequence[float],\n",
    "    ys: Sequence[float],\n",
    ") -> bool:\n",
    "    return all(x > y + TOL for x, y in zip(xs, ys))\n",
    "\n",
    "\n",
    "def is_rbayes_maximal(\n",
    "    credal_set: Sequence[PMF],\n",
    "    gambles: Sequence[Gamble],\n",
    ") -> Sequence[bool]:\n",
    "    xss = [[expectation(pmf, gamble) for pmf in credal_set] for gamble in gambles]\n",
    "    return is_maximal(pointwise_dominates, xss)"
   ]
  },
  {
   "cell_type": "markdown",
   "id": "0d46d976-7358-4dd0-8c61-e920ad558c36",
   "metadata": {},
   "source": [
    "**Exercise** Compare the implementation of ``is_rbayes_maximal`` with the implementation of ``is_interval_maximal``. There is just one difference. Can you identify it?"
   ]
  },
  {
   "cell_type": "markdown",
   "id": "3ae3a49d-66e0-4e02-a0b5-b4f5fe89b6c7",
   "metadata": {},
   "source": [
    "*Write your solution here.*"
   ]
  },
  {
   "cell_type": "markdown",
   "id": "2552575c-ee78-459c-a688-ebef66d05bb0",
   "metadata": {},
   "source": [
    "Let us test this on our example, with credal set ``[[0.5, 0.5], [0.8 , 0.2]]`` and gambles ``[[440, 260], [420, 300], [370, 370]]``:"
   ]
  },
  {
   "cell_type": "code",
   "execution_count": 18,
   "id": "8885fec7-44ea-4ce0-8cfb-95971a32b240",
   "metadata": {},
   "outputs": [
    {
     "data": {
      "text/plain": [
       "[True, True, True]"
      ]
     },
     "execution_count": 18,
     "metadata": {},
     "output_type": "execute_result"
    }
   ],
   "source": [
    "is_rbayes_maximal(\n",
    "    credal_set=[[0.5, 0.5], [0.8, 0.2]],\n",
    "    gambles=[[440, 260], [420, 300], [370, 370]],\n",
    ")"
   ]
  },
  {
   "cell_type": "markdown",
   "id": "ef5443bd-2f8f-493c-b5c5-c81abb2ae0b5",
   "metadata": {},
   "source": [
    "## Robust Bayes Admissibility\n",
    "\n",
    "Under robust Bayes admissibility, we choose all decisions\n",
    "that have maximal expectation with respect to some $p\\in\\mathcal{M}$:\n",
    "$$\\bigcup_{p\\in\\mathcal{M}}\\arg\\max_{d\\in D} E_p(X_d)$$\n",
    "In code, we can implement this simply as follows:"
   ]
  },
  {
   "cell_type": "code",
   "execution_count": 19,
   "id": "5df3760c-e54d-416e-bedb-812b4a968238",
   "metadata": {},
   "outputs": [],
   "source": [
    "def is_rbayes_admissible(\n",
    "    credal_set: Sequence[PMF],\n",
    "    gambles: Sequence[Gamble],\n",
    ") -> Sequence[bool]:\n",
    "    def arg_max(pmf: PMF) -> Sequence[bool]:\n",
    "        xs = [expectation(pmf, gamble) for gamble in gambles]\n",
    "        max_xs = max(xs)\n",
    "        return [x + TOL >= max_xs for x in xs]\n",
    "\n",
    "    def union(bss: Sequence[Sequence[bool]]) -> Sequence[bool]:\n",
    "        return [any(bs) for bs in zip(*bss)]\n",
    "\n",
    "    return union([arg_max(pmf) for pmf in credal_set])"
   ]
  },
  {
   "cell_type": "markdown",
   "id": "4989d43b-3f91-4d82-968a-e1821698d45a",
   "metadata": {},
   "source": [
    "Let us test this on our example, with credal set ``[[0.5, 0.5], [0.8 , 0.2]]`` and gambles ``[[440, 260], [420, 300], [370, 370]]``:"
   ]
  },
  {
   "cell_type": "code",
   "execution_count": 20,
   "id": "dd75471a-ca9c-454a-9b30-6b1094880646",
   "metadata": {},
   "outputs": [
    {
     "data": {
      "text/plain": [
       "[True, False, True]"
      ]
     },
     "execution_count": 20,
     "metadata": {},
     "output_type": "execute_result"
    }
   ],
   "source": [
    "is_rbayes_admissible(\n",
    "    credal_set=[[0.5, 0.5], [0.8, 0.2]],\n",
    "    gambles=[[440, 260], [420, 300], [370, 370]],\n",
    ")"
   ]
  },
  {
   "cell_type": "markdown",
   "id": "babe3a97-9e59-4747-976c-cdda68aacc56",
   "metadata": {},
   "source": [
    "We note that robust Bayes admissibility is not just determined by the extreme points of the credal set. For this reason, normally, the credal set is assumed convex, and in that case the resulting criterion is called *E-admissibility*. The following example demonstrates this:"
   ]
  },
  {
   "cell_type": "code",
   "execution_count": 21,
   "id": "293060a1-c85b-4be8-a2ec-a9692487a4ed",
   "metadata": {},
   "outputs": [
    {
     "data": {
      "text/plain": [
       "[True, True, True]"
      ]
     },
     "execution_count": 21,
     "metadata": {},
     "output_type": "execute_result"
    }
   ],
   "source": [
    "is_rbayes_admissible(\n",
    "    credal_set=[[0.5, 0.5], [0.65, 0.35], [0.8, 0.2]],\n",
    "    gambles=[[440, 260], [420, 300], [370, 370]],\n",
    ")"
   ]
  },
  {
   "cell_type": "markdown",
   "id": "b97c2cd4-69f5-4aeb-a64e-f85953a3eb07",
   "metadata": {},
   "source": [
    "**Exercise** Using the code below, or otherwise, confirm that ``[0.65, 0.35]`` belongs to the convex hull of ``[[0.5, 0.5], [0.8 , 0.2]]``."
   ]
  },
  {
   "cell_type": "code",
   "execution_count": 22,
   "id": "7bf9534d-48bf-40df-9575-e0d56751a386",
   "metadata": {},
   "outputs": [
    {
     "data": {
      "text/plain": [
       "[0.5, 0.5]"
      ]
     },
     "execution_count": 22,
     "metadata": {},
     "output_type": "execute_result"
    }
   ],
   "source": [
    "def combine(\n",
    "    alpha: float,\n",
    "    xs: Sequence[float],\n",
    "    ys: Sequence[float],\n",
    ") -> Sequence[float]:\n",
    "    return [(1 - alpha) * x + alpha * y for x, y in zip(xs, ys)]\n",
    "\n",
    "\n",
    "alpha = 0  # you'll need to tweak this value\n",
    "combine(alpha, [0.5, 0.5], [0.8, 0.2])"
   ]
  },
  {
   "cell_type": "markdown",
   "id": "68fcaad1-daf1-411e-bf5c-6f30a84ed80d",
   "metadata": {},
   "source": [
    "## Additional Exercises"
   ]
  },
  {
   "cell_type": "markdown",
   "id": "acd26261-2545-4755-b968-a1b35b767c8f",
   "metadata": {},
   "source": [
    "**Exercise** Consider again the same very simple example from the lectures:\n",
    "\n",
    "> A company makes a product, and believes in increasing future demand.  The manager asks you, the decision expert, whether he should buy new machinery, use overtime, or do nothing. The upcoming year, demand can either increase or remain the same.\n",
    ">\n",
    "> If we buy new machinery, then the profit at the end of the year\n",
    "will be $440$ (in thousands of pounds) if demand increases, and\n",
    "$260$ otherwise. Alternatively, if we use overtime, then the\n",
    "profit will be $420$ if demand increases, and $300$ otherwise. If\n",
    "we do nothing, profit will be $370$.\n",
    "\n",
    "We have done additional market research, and we now know that demand will increase with probability at least $0.6$, and at most $0.65$. What advice can we give the manager now? Investigate with each optimality criterion. Hint: The credal set $\\mathcal{M}$ is now ``[[0.6, 0.4], [0.65, 0.35]]``."
   ]
  },
  {
   "cell_type": "code",
   "execution_count": 23,
   "id": "f72df48f-4aa6-4b08-99d0-da7557ffe88b",
   "metadata": {},
   "outputs": [],
   "source": [
    "# write your solution here"
   ]
  },
  {
   "cell_type": "markdown",
   "id": "86fd388c-635f-4e63-a0b7-1940286e74d1",
   "metadata": {},
   "source": [
    "**Exercise** You have the option to invest some money. The market can either improve, remain, or worsen. Your set of probabilities are tabulated below. You have the choice between 4 investment options, summarized in the table below.\n",
    "\n",
    "| option | improve | remain | worsen\n",
    "|---|---|---|---\n",
    "| #1 | 100 | 50 | -25\n",
    "| #2 | 75 | 50 | 0\n",
    "| #3 | 60 | 55 | 10\n",
    "| #4 | 35 | 35 | 35\n",
    "\n",
    "The credal set consists of two probability mass functions:\n",
    "\n",
    "improve | remain | worsen\n",
    "---|---|---\n",
    "0.0 | 0.6 | 0.4\n",
    "0.3 | 0.3 | 0.4\n",
    "\n",
    "1. Write down the credal set and the set of gambles in code.\n",
    "2. Find the optimal investment options under each decision criterion that we have covered.\n",
    "3. Now, consider interval maximality and robust Bayes maximality. Which of these two criteria gives a 'better' answer, and why?"
   ]
  },
  {
   "cell_type": "code",
   "execution_count": 24,
   "id": "849a5fc6-b9ee-44f6-9f94-65370f196a72",
   "metadata": {},
   "outputs": [],
   "source": [
    "# write your solution here"
   ]
  },
  {
   "cell_type": "markdown",
   "id": "4dbaa763-25e2-4b4d-a8a2-5565350be00b",
   "metadata": {},
   "source": [
    "**Exercise** Consider the credal set ``[[1, 0], [0.5, 0.5], [0, 1]]`` and the gambles ``[[10, 0], [4, 4], [0, 10]]``. Show that this decision problem has a $\\Gamma$-maximin gamble that is not robust Bayes admissible."
   ]
  },
  {
   "cell_type": "code",
   "execution_count": 25,
   "id": "d27ba72b-b4e2-47ca-b3e6-31d10fa3e069",
   "metadata": {},
   "outputs": [],
   "source": [
    "# write your solution here"
   ]
  },
  {
   "cell_type": "markdown",
   "id": "f3ff4d5a-40f1-4890-965a-a5f561578b98",
   "metadata": {},
   "source": [
    "**Exercise** We proved in the lectures that the set of interval maximal gambles is equal to\n",
    "$$\\left\\{d\\colon \\overline{E}(X_d)\\ge\\max_{e\\in D}\\underline{E}(X_e)\\right\\}$$\n",
    "Can you implement this as a function?\n",
    "You can use the code below as a starting point."
   ]
  },
  {
   "cell_type": "code",
   "execution_count": 26,
   "id": "40c8c210-5544-4604-8f90-f40105e3e5ce",
   "metadata": {},
   "outputs": [],
   "source": [
    "def is_interval_maximal_2(\n",
    "    credal_set: Sequence[PMF],\n",
    "    gambles: Sequence[Gamble],\n",
    ") -> Sequence[bool]:\n",
    "    xss = [[expectation(pmf, gamble) for pmf in credal_set] for gamble in gambles]\n",
    "    maxmin = max(min(xs) for xs in xss)\n",
    "    maxs = [max(xs) for xs in xss]\n",
    "    return  # ... complete this line!\n",
    "\n",
    "\n",
    "# test the result\n",
    "is_interval_maximal_2(\n",
    "    credal_set=[[0.5, 0.5], [0.8, 0.2]],\n",
    "    gambles=[[440, 260], [420, 300], [370, 370]],\n",
    ")"
   ]
  },
  {
   "cell_type": "markdown",
   "id": "bff448b3-1489-437b-9390-a227213d4a36",
   "metadata": {},
   "source": [
    "**Exercise** We saw in the lectures that we do not need to compare all gambles, because every non-maximal element is dominated by a maximal element. This holds not just for robust Bayes maximality, but for every transitive ordering. Can we improve the ``is_maximal`` function so it immediately eliminates non-maximal sequences from consideration, leading to a more efficient implementation? Recall that when writing ``a and b`` in Python, where ``a`` and ``b`` are arbitrary expressions, ``b`` is never evaluated unless ``a`` is ``True``. \n",
    "\n",
    "1. Explain how the code for the ``is_maximal_2`` function below achieves a more efficient implementation.\n",
    "2. Explain why, when using the implementation below for ``is_rbayes_maximal_2``, it pays off to sort the gambles in advance, so that maximal gambles are likely come last in the sequence.\n",
    "3. (Challenging) How could you improve ``is_rbayes_maximal_2`` function to do precisely that? Hint: What happens if you sort the gambles by expectation of, say, some element of ``credal_set``? You are not asked to actually implement this improvement; it is enough to simply comment on how you would do so."
   ]
  },
  {
   "cell_type": "code",
   "execution_count": 27,
   "id": "3c7ecd1c-1083-4f6e-a0ce-bdf1f3f637e2",
   "metadata": {},
   "outputs": [
    {
     "data": {
      "text/plain": [
       "[True, True, True]"
      ]
     },
     "execution_count": 27,
     "metadata": {},
     "output_type": "execute_result"
    }
   ],
   "source": [
    "def is_maximal_2(\n",
    "    # compares two vectors\n",
    "    dominates: Callable[[Sequence[float], Sequence[float]], bool],\n",
    "    # sequence of vectors\n",
    "    xss: Sequence[Sequence[float]],\n",
    ") -> Sequence[bool]:\n",
    "    if not xss:\n",
    "        return []\n",
    "    else:\n",
    "        ys = xss[0]\n",
    "        zss = xss[1:]\n",
    "        is_max_zss = is_maximal_2(dominates, zss)\n",
    "        is_ys_dominated = any(\n",
    "            is_max_zs and dominates(zs, ys) for zs, is_max_zs in zip(zss, is_max_zss)\n",
    "        )\n",
    "        is_max_zss_2 = (\n",
    "            is_max_zss\n",
    "            if is_ys_dominated\n",
    "            else [\n",
    "                is_max_zs and not dominates(ys, zs)\n",
    "                for zs, is_max_zs in zip(zss, is_max_zss)\n",
    "            ]\n",
    "        )\n",
    "        return [not is_ys_dominated] + is_max_zss_2\n",
    "\n",
    "\n",
    "def is_rbayes_maximal_2(\n",
    "    credal_set: Sequence[PMF],\n",
    "    gambles: Sequence[Gamble],\n",
    ") -> Sequence[bool]:\n",
    "    xss = [[expectation(pmf, gamble) for pmf in credal_set] for gamble in gambles]\n",
    "    return is_maximal_2(pointwise_dominates, xss)\n",
    "\n",
    "\n",
    "is_rbayes_maximal_2(\n",
    "    credal_set=[[0.5, 0.5], [0.8, 0.2]],\n",
    "    gambles=[[440, 260], [420, 300], [370, 370]],\n",
    ")"
   ]
  },
  {
   "cell_type": "markdown",
   "id": "ec5fd0e6-8907-4f0a-80de-1e6fd05af29c",
   "metadata": {},
   "source": [
    "**Exercise** Show that, for the special case\n",
    "when the decision problem has only two options (i.e. only two gambles are involved),\n",
    "robust Bayes maximality and robust Bayes admissibility coincide."
   ]
  },
  {
   "cell_type": "markdown",
   "id": "21e63bcd-c314-4a9a-9f31-215e195b237d",
   "metadata": {},
   "source": [
    "*Write your solution here.*"
   ]
  },
  {
   "cell_type": "markdown",
   "id": "2fa4fcb0-2b86-4f44-9115-320589217afb",
   "metadata": {},
   "source": [
    "**Exercise** Consider a situation with a known fixed probability mass function for the likelihood $p(y|x)$ and a vacuous credal set for the parameter $x$.\n",
    "Show that, for any function $Z$ of $x$ and $y$, we have that\n",
    "$$\\min_x\\underbrace{\\sum_y Z(x,y)p(y|x)}_{E(Z|x)}\n",
    "=\\min_{p\\in\\mathcal{M}} \\underbrace{\\sum_x\\sum_y Z(x,y)p(x,y)}_{E_p(Z)}$$\n",
    "or in other words, that\n",
    "$$\\min_x E(Z|x)=\\underline{E}(Z)$$\n",
    "Note that the expectations on the left hand sides are precise since only the likelihood is used, which is assumed fixed and known."
   ]
  },
  {
   "cell_type": "markdown",
   "id": "da7a7543-b52a-4597-8bc2-74493b0d8187",
   "metadata": {},
   "source": [
    "*Write your solution here.*"
   ]
  },
  {
   "cell_type": "markdown",
   "id": "bac9f5e8-5d3f-4e06-927e-6e9b98221ee7",
   "metadata": {},
   "source": [
    "**Exercise** In this exercise we prove a version of Wald's theorem. Consider the situation from the previous exercise.\n",
    "\n",
    "1. Show that a strategy $\\delta$ is Wald admissible,\n",
    "in the sense that\n",
    "$$\\forall\\delta',\\,\\exists x\\colon\\quad E(U(\\delta(Y),x)|x)\\ge E(U(\\delta'(Y),x)|x)$$\n",
    "if and only if it is robust Bayes maximal, in the sense that\n",
    "$$\\forall\\delta',\\,\\exists p\\in\\mathcal{M}\\colon\\quad E_p(U(\\delta(Y),X))\\ge E_p(U(\\delta'(Y),X))$$\n",
    "Hint: Use the equality from the result from above with $Z(x,y)=U(\\delta(y),x)-U(\\delta'(y),x)$.\n",
    "\n",
    "2. (Challenging) What can you say about the relationship between robust Bayes maximality with respect to the posterior lower expectation $\\underline{E}(\\cdot|y)$ and Wald admissibility (in the sense as above, i.e. with respect to the likelihood)?\n",
    "\n",
    "3. The definition of Wald admissibility as defined in the lectures\n",
    "is not equivalent to the definition of Wald admissibility in this exercise.\n",
    "Identify the difference."
   ]
  },
  {
   "cell_type": "markdown",
   "id": "720d54ec-4ed5-4df6-9016-1219ed27ad13",
   "metadata": {},
   "source": [
    "*Write your solution here.*"
   ]
  },
  {
   "cell_type": "markdown",
   "id": "ea17bba1-9b7c-4659-826e-48cc2afb0a57",
   "metadata": {},
   "source": [
    "**Exercise** Show that $\\Gamma$-maximin, $\\Gamma$-maximax, and Hurwicz (if you did the exercises on this topic) gambles are always interval maximal."
   ]
  },
  {
   "cell_type": "markdown",
   "id": "f24a0e87-93b7-4f71-a888-3d1db1825d4e",
   "metadata": {},
   "source": [
    "*Write your solution here.*"
   ]
  },
  {
   "cell_type": "markdown",
   "id": "810b4f2d-4e6e-4aae-bdf8-efbb8267dfeb",
   "metadata": {},
   "source": [
    "**Exercise** Show that every $\\Gamma$-maximax gamble is robust Bayes admissible."
   ]
  },
  {
   "cell_type": "markdown",
   "id": "c37ba206-f068-4a86-810c-d2eac8b00753",
   "metadata": {},
   "source": [
    "*Write your solution here.*"
   ]
  },
  {
   "cell_type": "markdown",
   "id": "9114a23d-96c4-4bc8-b611-e12c73766c6e",
   "metadata": {},
   "source": [
    "**Exercise** Show that every robust Bayes admissible gamble is also robust Bayes maximal."
   ]
  },
  {
   "cell_type": "markdown",
   "id": "24528c65-898a-4f89-af5e-f0f44bd69fc6",
   "metadata": {},
   "source": [
    "*Write your solution here.*"
   ]
  },
  {
   "cell_type": "markdown",
   "id": "7692010e-8c1c-4366-a993-5dcb5a150d4b",
   "metadata": {},
   "source": [
    "**Exercise** Show that every robust Bayes maximal gamble is also interval maximal."
   ]
  },
  {
   "cell_type": "markdown",
   "id": "91683faf-1a3e-4069-9114-d42b29aed348",
   "metadata": {},
   "source": [
    "*Write your solution here.*"
   ]
  },
  {
   "cell_type": "markdown",
   "id": "31675c1f-2903-4502-a84f-8247d2f0a205",
   "metadata": {},
   "source": [
    "**Exercise** Show that every $\\Gamma$-maximin gamble is robust Bayes maximal."
   ]
  },
  {
   "cell_type": "markdown",
   "id": "2f1d5d01-a2a0-4cb5-b00a-53fcafb7f051",
   "metadata": {},
   "source": [
    "*Write your solution here.*"
   ]
  }
 ],
 "metadata": {
  "kernelspec": {
   "display_name": "Python 3 (ipykernel)",
   "language": "python",
   "name": "python3"
  },
  "language_info": {
   "codemirror_mode": {
    "name": "ipython",
    "version": 3
   },
   "file_extension": ".py",
   "mimetype": "text/x-python",
   "name": "python",
   "nbconvert_exporter": "python",
   "pygments_lexer": "ipython3",
   "version": "3.12.1"
  }
 },
 "nbformat": 4,
 "nbformat_minor": 5
}
