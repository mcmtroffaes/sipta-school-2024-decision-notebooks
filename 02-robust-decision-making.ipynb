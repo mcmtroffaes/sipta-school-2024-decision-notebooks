{
 "cells": [
  {
   "cell_type": "markdown",
   "id": "96e066c0-7284-4ef6-b3ef-0466a80712e2",
   "metadata": {},
   "source": [
    "# Robust Decision Making\n",
    "\n",
    "To solve decision problems using bounded probability, we first need some code to calculate lower and upper expectations themselves."
   ]
  },
  {
   "cell_type": "markdown",
   "id": "81485db8-471a-4e84-8a40-74d48af61f99",
   "metadata": {},
   "source": [
    "## Credal Sets\n",
    "\n",
    "Here, for simplicity, we will always specify a lower expectation by means of a finite set of probability mass functions.\n",
    "The lower expectation is then the minimal expectation with respect to this set.\n",
    "\n",
    "Let's move to lower expectations. A credal set will then be a set of probability mass functions. For simplicity, we will also use a sequence to represent these in the code. For example, when coding, we will represent the credal set $\\{(0.2, 0.2, 0.6), (0.4, 0.1, 0.5)\\}$ as follows:"
   ]
  },
  {
   "cell_type": "code",
   "execution_count": 1,
   "id": "e58f9321-5d58-4b14-8f56-2ff8faf508e0",
   "metadata": {},
   "outputs": [
    {
     "data": {
      "text/plain": [
       "[[0.2, 0.2, 0.6], [0.4, 0.1, 0.5]]"
      ]
     },
     "execution_count": 1,
     "metadata": {},
     "output_type": "execute_result"
    }
   ],
   "source": [
    "# a credal set containing two probability mass functions\n",
    "[[0.2, 0.2, 0.6], [0.4, 0.1, 0.5]]"
   ]
  },
  {
   "cell_type": "markdown",
   "id": "e41aa20e-d45b-4c21-9e3e-9be5fa6e466a",
   "metadata": {},
   "source": [
    "## Lower and Upper Expectations\n",
    "\n",
    "The lower and upper expectation are simply the minimum and maximum expectation over the credal set $\\mathcal{M}$:\n",
    "$$\\underline{E}(X)=\\min_{p\\in\\mathcal{M}}E_p(X)\\qquad\\overline{E}(X)=\\max_{p\\in\\mathcal{M}}E_p(X)$$\n",
    "The next functions implement this.\n",
    "We'll make use of the ``expectation`` function introduced previously.\n",
    "In the code, we abstract the minimum and maximum transformations,\n",
    "since we will consider additional transformation later."
   ]
  },
  {
   "cell_type": "code",
   "execution_count": 2,
   "id": "7a9e2e4d-754e-4b1d-b41e-1a140dbcca31",
   "metadata": {},
   "outputs": [],
   "source": [
    "from collections.abc import Callable, Sequence\n",
    "\n",
    "PMF = Sequence[float]\n",
    "Gamble = Sequence[float]\n",
    "\n",
    "def expectation(pmf: PMF, gamble: Gamble) -> float:\n",
    "    return sum(p * g for p, g in zip(pmf, gamble))\n",
    "\n",
    "def transform_expectations(\n",
    "    transform: Callable[[Sequence[float]], float],  # sequence of expectations -> float\n",
    "    credal_set: Sequence[PMF],\n",
    "    gamble: Sequence[Gamble],\n",
    ") -> float:\n",
    "    return transform([expectation(pmf, gamble) for pmf in credal_set])\n",
    "\n",
    "def lower_expectation(credal_set: Sequence[Sequence[float]], gamble: Sequence[float]) -> float:\n",
    "    return transform_expectations(min, credal_set, gamble)\n",
    "\n",
    "def upper_expectation(credal_set: Sequence[Sequence[float]], gamble: Sequence[float]) -> float:\n",
    "    return transform_expectations(max, credal_set, gamble)"
   ]
  },
  {
   "cell_type": "markdown",
   "id": "c4129137-d9ce-4fb5-a460-d513b8dbafd2",
   "metadata": {},
   "source": [
    "Let's test this by finding the lower expectation of the gamble ``[5, 3, 1]`` with respect to the credal set ``[[0.2, 0.2, 0.6], [0.1, 0.1, 0.8]]``:"
   ]
  },
  {
   "cell_type": "code",
   "execution_count": 3,
   "id": "775f9075-24b4-4ce8-a72c-9137ab31507d",
   "metadata": {},
   "outputs": [
    {
     "data": {
      "text/plain": [
       "1.6"
      ]
     },
     "execution_count": 3,
     "metadata": {},
     "output_type": "execute_result"
    }
   ],
   "source": [
    "lower_expectation(\n",
    "    credal_set=[[0.2, 0.2, 0.6], [0.1, 0.1, 0.8]],\n",
    "    gamble=[5, 3, 1],\n",
    ")"
   ]
  },
  {
   "cell_type": "markdown",
   "id": "a92e3e02-3336-4998-9947-3f8e5890bccb",
   "metadata": {},
   "source": [
    "Let's check this value by evaluating the expectation of the gamble with respect to each member of the credal set:"
   ]
  },
  {
   "cell_type": "code",
   "execution_count": 4,
   "id": "060afdf5-5793-48d5-97bc-c24cd19ab5bf",
   "metadata": {},
   "outputs": [
    {
     "data": {
      "text/plain": [
       "[2.2, 1.6]"
      ]
     },
     "execution_count": 4,
     "metadata": {},
     "output_type": "execute_result"
    }
   ],
   "source": [
    "[0.2 * 5 + 0.2 * 3 + 0.6 * 1, 0.1 * 5 + 0.1 * 3 + 0.8 * 1]"
   ]
  },
  {
   "cell_type": "markdown",
   "id": "4be764b3-48a5-4ee3-ab3e-e29e3a6ca424",
   "metadata": {},
   "source": [
    "The lower expectation is the lowest of these numbers, and indeed we can see that the correct value has been found.\n",
    "\n",
    "**Exercise** Can you calculate the lower expectation of the gamble ``[1, 4, 2]`` with respect to the same credal set as the one used in the example?"
   ]
  },
  {
   "cell_type": "code",
   "execution_count": 5,
   "id": "8d86e6cc-6cfa-4885-a9b2-245ac83dbe0e",
   "metadata": {},
   "outputs": [],
   "source": [
    "# write your solution here"
   ]
  },
  {
   "cell_type": "markdown",
   "id": "b07bf584-983d-4582-bed7-f3409ffb00d9",
   "metadata": {},
   "source": [
    "**Exercise** Can you also calculate the same gamble's upper expectation (again with the same credal set)?"
   ]
  },
  {
   "cell_type": "code",
   "execution_count": 6,
   "id": "d2a09765-f285-4182-8f06-2fd7fdc3ca43",
   "metadata": {},
   "outputs": [],
   "source": [
    "# write your solution here"
   ]
  },
  {
   "cell_type": "markdown",
   "id": "8ca6a375-96e9-4a6f-af8d-dafe3b294ade",
   "metadata": {},
   "source": [
    "**Exercise** Verify that $\\overline{E}(X)=-\\underline{E}(-X)$, for the gamble ``[1, 4, 2]``."
   ]
  },
  {
   "cell_type": "code",
   "execution_count": 7,
   "id": "ee2b3ca8-1e92-4571-a7e5-0b60426822c6",
   "metadata": {},
   "outputs": [],
   "source": [
    "# write your solution here"
   ]
  },
  {
   "cell_type": "markdown",
   "id": "67e3d323-f2aa-41c1-8b5d-fbcf9c8bc20b",
   "metadata": {},
   "source": [
    "## Gamma-maximin\n",
    "\n",
    "In $\\Gamma$-maximin, we choose the gamble with the highest lower expectation:\n",
    "$$\\arg\\max_{d\\in D}\\underline{E}(X_d)$$"
   ]
  },
  {
   "cell_type": "code",
   "execution_count": 8,
   "id": "7b362938-0c47-4944-a393-d753ec5db88c",
   "metadata": {},
   "outputs": [],
   "source": [
    "def is_gamma_maxi_something(\n",
    "    tol: float,  # absolute tolerance\n",
    "    something: Callable[[Gamble], float],  # gamble -> float (e.g. lower prevision, upper prevision, ...)\n",
    "    gambles: Sequence[Gamble],\n",
    ") -> Sequence[bool]:\n",
    "    values = list(map(something, gambles))\n",
    "    max_value = max(values)\n",
    "    return [value >= max_value - tol for value in values]\n",
    "\n",
    "def is_gamma_maximin(\n",
    "    tol: float,\n",
    "    credal_set: Sequence[PMF],\n",
    "    gambles: Sequence[Gamble],\n",
    ") -> Sequence[bool]:\n",
    "    def something(gamble: Gamble) -> float:\n",
    "        return lower_expectation(credal_set, gamble)\n",
    "    return is_gamma_maxi_something(tol, something, gambles)"
   ]
  },
  {
   "cell_type": "markdown",
   "id": "b43474c8-4823-4fa5-b267-8b7caee78e9f",
   "metadata": {},
   "source": [
    "Let us test this on our example, with credal set ``[[0.5, 0.5], [0.8 , 0.2]]`` and gambles ``[[440, 260], [420, 300], [370, 370]]``:"
   ]
  },
  {
   "cell_type": "code",
   "execution_count": 9,
   "id": "e39450ee-b5ae-4453-857d-b9fccc5e06d2",
   "metadata": {},
   "outputs": [
    {
     "data": {
      "text/plain": [
       "[False, False, True]"
      ]
     },
     "execution_count": 9,
     "metadata": {},
     "output_type": "execute_result"
    }
   ],
   "source": [
    "is_gamma_maximin(\n",
    "    tol=1e-6,\n",
    "    credal_set=[[0.5, 0.5], [0.8 , 0.2]],\n",
    "    gambles=[[440, 260], [420, 300], [370, 370]],\n",
    ")"
   ]
  },
  {
   "cell_type": "markdown",
   "id": "36fa2d94-4053-45f5-91fe-8f654a1c6bda",
   "metadata": {},
   "source": [
    "This tells us that the third gamble (and only the third one) is optimal according to $\\Gamma$-maximin."
   ]
  },
  {
   "cell_type": "markdown",
   "id": "10ee74bf-7527-4851-a982-b0bf49653b36",
   "metadata": {},
   "source": [
    "## Gamma-maximax\n",
    "\n",
    "The situation for $\\Gamma$-maximax is very similar.\n",
    "We choose the gamble with the highest upper expectation:\n",
    "$$\\arg\\max_{d\\in D}\\overline{E}(X_d)$$\n",
    "A small change in the above ``is_gamma_maximin`` function gives us ``is_gamma_maximax``:"
   ]
  },
  {
   "cell_type": "code",
   "execution_count": 10,
   "id": "f074f775-9f70-463d-951c-6d13e794869d",
   "metadata": {},
   "outputs": [],
   "source": [
    "def is_gamma_maximax(\n",
    "    tol: float,\n",
    "    credal_set: Sequence[PMF],\n",
    "    gambles: Sequence[Gamble],\n",
    ") -> Sequence[bool]:\n",
    "    def something(gamble: Gamble) -> float:\n",
    "        return upper_expectation(credal_set, gamble)  # we changed just this line\n",
    "    return is_gamma_maxi_something(tol, something, gambles)"
   ]
  },
  {
   "cell_type": "markdown",
   "id": "95b80891-9b85-4cd9-a6ca-3093c41779b9",
   "metadata": {},
   "source": [
    "Let us again test this on our example, with credal set ``[[0.5, 0.5], [0.8 , 0.2]]`` and gambles ``[[440, 260], [420, 300], [370, 370]]``:"
   ]
  },
  {
   "cell_type": "code",
   "execution_count": 11,
   "id": "ce33bc34-fbf4-4f8a-b8cd-e0be58ae5d2c",
   "metadata": {},
   "outputs": [
    {
     "data": {
      "text/plain": [
       "[True, False, False]"
      ]
     },
     "execution_count": 11,
     "metadata": {},
     "output_type": "execute_result"
    }
   ],
   "source": [
    "is_gamma_maximax(\n",
    "    tol=1e-6,\n",
    "    credal_set=[[0.5, 0.5], [0.8 , 0.2]],\n",
    "    gambles=[[440, 260], [420, 300], [370, 370]],\n",
    ")"
   ]
  },
  {
   "cell_type": "markdown",
   "id": "7b417222-fe89-466f-a655-3412121d55be",
   "metadata": {},
   "source": [
    "This tells us that the first gamble (and only the first one) is optimal according to $\\Gamma$-maximax."
   ]
  }
 ],
 "metadata": {
  "kernelspec": {
   "display_name": "Python 3 (ipykernel)",
   "language": "python",
   "name": "python3"
  },
  "language_info": {
   "codemirror_mode": {
    "name": "ipython",
    "version": 3
   },
   "file_extension": ".py",
   "mimetype": "text/x-python",
   "name": "python",
   "nbconvert_exporter": "python",
   "pygments_lexer": "ipython3",
   "version": "3.12.1"
  }
 },
 "nbformat": 4,
 "nbformat_minor": 5
}
