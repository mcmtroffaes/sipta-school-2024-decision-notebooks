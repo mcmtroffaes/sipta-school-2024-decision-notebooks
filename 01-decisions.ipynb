{
 "cells": [
  {
   "cell_type": "markdown",
   "id": "a0446134-3a3f-4743-996f-bd3fe6dd9242",
   "metadata": {},
   "source": [
    "In the code, our function signatures will use type annotations to make clear the objects that we are working with. You can ignore these if you wish, but it may add some clarity."
   ]
  },
  {
   "cell_type": "code",
   "execution_count": 1,
   "id": "c2874cb4-8f52-4f91-9ee9-51f41db44a30",
   "metadata": {},
   "outputs": [],
   "source": [
    "from collections.abc import Sequence"
   ]
  },
  {
   "attachments": {},
   "cell_type": "markdown",
   "id": "f56a3739-db43-4a92-955e-49f851fe9285",
   "metadata": {},
   "source": [
    "# Introduction\n",
    "\n",
    "To solve decision problems using bounded probability, we first need some code to calculate lower and upper expectations themselves. In these exercises, for simplicity, we will always specify a lower expectation by means of a finite set of probability mass functions. The lower expectation is then the minimal expectation with respect to this set."
   ]
  },
  {
   "attachments": {},
   "cell_type": "markdown",
   "id": "ecac07e7-56f2-4f02-8874-20e675c27d08",
   "metadata": {},
   "source": [
    "## Probability Mass Functions, Gambles, Events\n",
    "\n",
    "Let's start with the basics. We will represent a probability mass function as a sequence of floats summing to one. Similarly, we represent a random e as a sequence of floats. An event is a sequence of bools.\n",
    "\n",
    "For example, say we have a possibility space of size 3, we can define a probability mass function, gamble, and event, as follows:"
   ]
  },
  {
   "cell_type": "code",
   "execution_count": 2,
   "id": "8a586e79-5363-4c8c-8baa-575a20aa8221",
   "metadata": {},
   "outputs": [],
   "source": [
    "def _example_pmf_gamble_event() -> None:\n",
    "    pmf = [0.2, 0.2, 0.6]\n",
    "    gamble = [5, 3, 1]\n",
    "    event = [False, True, True]"
   ]
  },
  {
   "cell_type": "markdown",
   "id": "59eb76cc-0cf2-4b76-99bf-c1b70fa7ead2",
   "metadata": {},
   "source": [
    "## Expectation\n",
    "\n",
    "To calculate the conditional expectation, we write the definition of conditional expectation of a gamble $g$ given an event $A$ in terms of the probability mass function $p$:\n",
    "$$E(g\\mid A)=\\frac{E(g I_A)}{P(A)}=\\frac{\\sum_{\\omega\\in A}p(\\omega)g(\\omega)}{\\sum_{\\omega\\in A}p(\\omega)}$$\n",
    "The next function implements this formula (it is ok if you do not fully understand the details):"
   ]
  },
  {
   "cell_type": "code",
   "execution_count": 3,
   "id": "c4dfbc8a-de2c-4a01-9df1-a91045334f64",
   "metadata": {},
   "outputs": [],
   "source": [
    "def expectation(pmf: Sequence[float], gamble: Sequence[float], event: Sequence[bool]) -> float:\n",
    "    return sum(p * g for p, g, e in zip(pmf, gamble, event) if e) / sum(p for p, e in zip(pmf, event) if e)"
   ]
  },
  {
   "cell_type": "markdown",
   "id": "f3d3cd61-1a09-4f5f-a866-0c52f1649618",
   "metadata": {},
   "source": [
    "Let's test our first function:"
   ]
  },
  {
   "cell_type": "code",
   "execution_count": 4,
   "id": "c3c77081-a29d-4938-8629-9a88d4003cd2",
   "metadata": {},
   "outputs": [
    {
     "data": {
      "text/plain": [
       "1.5000000000000002"
      ]
     },
     "execution_count": 4,
     "metadata": {},
     "output_type": "execute_result"
    }
   ],
   "source": [
    "def _example_expectation() -> float:\n",
    "    return expectation(\n",
    "        pmf=[0.2, 0.2, 0.6],\n",
    "        gamble=[5, 3, 1],\n",
    "        event=[False, True, True]\n",
    "    )\n",
    "\n",
    "_example_expectation()"
   ]
  },
  {
   "cell_type": "markdown",
   "id": "98de47b6-cbca-4315-acb0-7fb62253dd95",
   "metadata": {},
   "source": [
    "Let's check this indeed did the correct calculation."
   ]
  },
  {
   "cell_type": "code",
   "execution_count": 5,
   "id": "0594c63c-6f72-414f-b1f9-62f48e208a6d",
   "metadata": {},
   "outputs": [
    {
     "data": {
      "text/plain": [
       "1.5000000000000002"
      ]
     },
     "execution_count": 5,
     "metadata": {},
     "output_type": "execute_result"
    }
   ],
   "source": [
    "(0.2 * 3 + 0.6 * 1) / (0.2 + 0.6)"
   ]
  },
  {
   "cell_type": "markdown",
   "id": "0451eb6d-1890-4b26-bd13-04221d5dd08e",
   "metadata": {},
   "source": [
    "We can now calculate conditional expectations! Time for some practice. Edit the code below to calculate the expectation of the gamble ``[1, -3, 2, 0]`` with respect to the probability mass function ``[0.2, 0.2, 0.3, 0.3]`` conditional on the event ``[True, False, True, False]``. Verify that you get the value ``1.6``."
   ]
  },
  {
   "cell_type": "code",
   "execution_count": 6,
   "id": "e6f446d7-429d-49af-bf74-61f3bfdde51d",
   "metadata": {},
   "outputs": [
    {
     "data": {
      "text/plain": [
       "0.0"
      ]
     },
     "execution_count": 6,
     "metadata": {},
     "output_type": "execute_result"
    }
   ],
   "source": [
    "def _exercise_expectation() -> float:\n",
    "    return 0.0  # edit this line!\n",
    "\n",
    "_exercise_expectation()"
   ]
  },
  {
   "cell_type": "markdown",
   "id": "79a4e21e-7969-4946-9b76-76912891d4e3",
   "metadata": {},
   "source": [
    "## Lower and Upper Expectation\n",
    "\n",
    "Let's move to lower expectations. A credal set will then be a set of probability mass functions. For simplicity, we will also use a sequence to represent these in the code. For example:"
   ]
  },
  {
   "cell_type": "code",
   "execution_count": 7,
   "id": "e58f9321-5d58-4b14-8f56-2ff8faf508e0",
   "metadata": {},
   "outputs": [],
   "source": [
    "def _example_credal_set() -> None:\n",
    "    credal_set = [[0.2, 0.2, 0.6], [0.4, 0.1, 0.5], [0.3, 0.3, 0.4]]"
   ]
  },
  {
   "cell_type": "markdown",
   "id": "e41aa20e-d45b-4c21-9e3e-9be5fa6e466a",
   "metadata": {},
   "source": [
    "The lower expectation is simply the minimum expectation over the credal set $\\mathcal{M}$:\n",
    "$$\\underline{E}(f\\mid A)=\\min_{p\\in\\mathcal{M}}E_p(f\\mid A)$$\n",
    "The next function implements this:"
   ]
  },
  {
   "cell_type": "code",
   "execution_count": 8,
   "id": "7a9e2e4d-754e-4b1d-b41e-1a140dbcca31",
   "metadata": {},
   "outputs": [],
   "source": [
    "def lower_expectation(credal_set: Sequence[Sequence[float]], gamble: Sequence[float], event: Sequence[bool]) -> float:\n",
    "    return min(expectation(pmf, gamble, event) for pmf in credal_set)"
   ]
  },
  {
   "cell_type": "markdown",
   "id": "c4129137-d9ce-4fb5-a460-d513b8dbafd2",
   "metadata": {},
   "source": [
    "Let's test this:"
   ]
  },
  {
   "cell_type": "code",
   "execution_count": 9,
   "id": "775f9075-24b4-4ce8-a72c-9137ab31507d",
   "metadata": {},
   "outputs": [
    {
     "data": {
      "text/plain": [
       "1.3333333333333335"
      ]
     },
     "execution_count": 9,
     "metadata": {},
     "output_type": "execute_result"
    }
   ],
   "source": [
    "def _example_lower_expectation() -> float:\n",
    "    return lower_expectation(\n",
    "        credal_set=[[0.2, 0.2, 0.6], [0.4, 0.1, 0.5], [0.3, 0.3, 0.4]],\n",
    "        gamble=[5, 3, 1],\n",
    "        event=[False, True, True],\n",
    "    )\n",
    "\n",
    "_example_lower_expectation()"
   ]
  },
  {
   "cell_type": "markdown",
   "id": "a92e3e02-3336-4998-9947-3f8e5890bccb",
   "metadata": {},
   "source": [
    "Let's check this is correct by evaluating the expectation of the gamble with respect to each member of the credal set."
   ]
  },
  {
   "cell_type": "code",
   "execution_count": 10,
   "id": "060afdf5-5793-48d5-97bc-c24cd19ab5bf",
   "metadata": {},
   "outputs": [
    {
     "data": {
      "text/plain": [
       "[1.5000000000000002, 1.3333333333333335, 1.857142857142857]"
      ]
     },
     "execution_count": 10,
     "metadata": {},
     "output_type": "execute_result"
    }
   ],
   "source": [
    "[(0.2 * 3 + 0.6 * 1) / (0.2 + 0.6), (0.1 * 3 + 0.5 * 1) / (0.1 + 0.5), (0.3 * 3 + 0.4 * 1) / (0.3 + 0.4)]"
   ]
  },
  {
   "cell_type": "markdown",
   "id": "4be764b3-48a5-4ee3-ab3e-e29e3a6ca424",
   "metadata": {},
   "source": [
    "The lower expectation is the lowest of these numbers, and indeed we can see that the correct value has been found.\n",
    "\n",
    "As an exercise, can you calculate the lower expectation of the gamble ``[1, 4, 2]`` conditional on the event ``[True, True, False]`` with respect to the same credal set as the one used in the example?"
   ]
  },
  {
   "cell_type": "code",
   "execution_count": 11,
   "id": "8d86e6cc-6cfa-4885-a9b2-245ac83dbe0e",
   "metadata": {},
   "outputs": [
    {
     "data": {
      "text/plain": [
       "0.0"
      ]
     },
     "execution_count": 11,
     "metadata": {},
     "output_type": "execute_result"
    }
   ],
   "source": [
    "def _exercise_lower_expectation() -> float:\n",
    "    return 0.0  # edit this line!\n",
    "\n",
    "_exercise_lower_expectation()"
   ]
  },
  {
   "cell_type": "markdown",
   "id": "b07bf584-983d-4582-bed7-f3409ffb00d9",
   "metadata": {},
   "source": [
    "Can you also calculate the same gamble's upper expectation conditional on this same event? (Hint: Recall that $\\overline{E}(g\\mid A)=-\\underline{E}(-g\\mid A)$.)"
   ]
  },
  {
   "cell_type": "code",
   "execution_count": 12,
   "id": "d2a09765-f285-4182-8f06-2fd7fdc3ca43",
   "metadata": {},
   "outputs": [
    {
     "data": {
      "text/plain": [
       "0.0"
      ]
     },
     "execution_count": 12,
     "metadata": {},
     "output_type": "execute_result"
    }
   ],
   "source": [
    "def _exercise_upper_expectation() -> float:\n",
    "    return 0.0  # edit this line!\n",
    "\n",
    "_exercise_upper_expectation()"
   ]
  },
  {
   "cell_type": "markdown",
   "id": "9d0a3ef5-f4df-4311-88ae-cb97dfe18af6",
   "metadata": {},
   "source": [
    "Now you know how we calculate lower expectations, you can move on to the next exercise, where we'll use the ``lower_expectation`` function to solve some simple decision problems."
   ]
  },
  {
   "cell_type": "markdown",
   "id": "9f2bf855-c62b-4a0b-bcf2-f161cb4f0880",
   "metadata": {},
   "source": [
    "# Decisions"
   ]
  }
 ],
 "metadata": {
  "kernelspec": {
   "display_name": "Python 3 (ipykernel)",
   "language": "python",
   "name": "python3"
  },
  "language_info": {
   "codemirror_mode": {
    "name": "ipython",
    "version": 3
   },
   "file_extension": ".py",
   "mimetype": "text/x-python",
   "name": "python",
   "nbconvert_exporter": "python",
   "pygments_lexer": "ipython3",
   "version": "3.12.1"
  }
 },
 "nbformat": 4,
 "nbformat_minor": 5
}
